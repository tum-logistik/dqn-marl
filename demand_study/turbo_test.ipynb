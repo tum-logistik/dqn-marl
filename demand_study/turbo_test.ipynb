{
 "cells": [
  {
   "cell_type": "code",
   "execution_count": 1,
   "metadata": {},
   "outputs": [],
   "source": [
    "from turbo.turbo_1 import Turbo1\n",
    "import numpy as np\n",
    "import torch\n",
    "import math\n",
    "import matplotlib\n",
    "import matplotlib.pyplot as plt"
   ]
  },
  {
   "cell_type": "code",
   "execution_count": 2,
   "metadata": {},
   "outputs": [],
   "source": [
    "class Levy:\n",
    "    def __init__(self, dim=10):\n",
    "        self.dim = dim\n",
    "        self.lb = -5 * np.ones(dim)\n",
    "        self.ub = 10 * np.ones(dim)\n",
    "        \n",
    "    def __call__(self, x):\n",
    "        assert len(x) == self.dim\n",
    "        assert x.ndim == 1\n",
    "        assert np.all(x <= self.ub) and np.all(x >= self.lb)\n",
    "        w = 1 + (x - 1.0) / 4.0\n",
    "        val = np.sin(np.pi * w[0]) ** 2 + \\\n",
    "            np.sum((w[1:self.dim - 1] - 1) ** 2 * (1 + 10 * np.sin(np.pi * w[1:self.dim - 1] + 1) ** 2)) + \\\n",
    "            (w[self.dim - 1] - 1) ** 2 * (1 + np.sin(2 * np.pi * w[self.dim - 1])**2)\n",
    "        return val\n",
    "\n",
    "f = Levy(10)"
   ]
  },
  {
   "cell_type": "code",
   "execution_count": 3,
   "metadata": {},
   "outputs": [
    {
     "name": "stdout",
     "output_type": "stream",
     "text": [
      "Using dtype = torch.float64 \n",
      "Using device = cpu\n"
     ]
    }
   ],
   "source": [
    "turbo1 = Turbo1(\n",
    "    f=f,  # Handle to objective function\n",
    "    lb=f.lb,  # Numpy array specifying lower bounds\n",
    "    ub=f.ub,  # Numpy array specifying upper bounds\n",
    "    n_init=20,  # Number of initial bounds from an Latin hypercube design\n",
    "    max_evals = 100,  # Maximum number of evaluations\n",
    "    batch_size=10,  # How large batch size TuRBO uses\n",
    "    verbose=True,  # Print information from each batch\n",
    "    use_ard=True,  # Set to true if you want to use ARD for the GP kernel\n",
    "    max_cholesky_size=2000,  # When we switch from Cholesky to Lanczos\n",
    "    n_training_steps=50,  # Number of steps of ADAM to learn the hypers\n",
    "    min_cuda=1024,  # Run on the CPU for small datasets\n",
    "    device=\"cpu\",  # \"cpu\" or \"cuda\"\n",
    "    dtype=\"float64\",  # float64 or float32\n",
    ")"
   ]
  },
  {
   "cell_type": "code",
   "execution_count": 4,
   "metadata": {},
   "outputs": [
    {
     "name": "stdout",
     "output_type": "stream",
     "text": [
      "Starting from fbest = 18.55\n",
      "50) New best: 15.7\n",
      "60) New best: 14.75\n",
      "70) New best: 13.65\n",
      "100) New best: 10.89\n"
     ]
    }
   ],
   "source": [
    "turbo1.optimize()\n"
   ]
  },
  {
   "cell_type": "code",
   "execution_count": 5,
   "metadata": {},
   "outputs": [
    {
     "name": "stdout",
     "output_type": "stream",
     "text": [
      "Best value found:\n",
      "\tf(x) = 10.889\n",
      "Observed at:\n",
      "\tx = [-3.357 -4.098  1.123  3.389  7.671  3.142  1.349  2.014  7.885 -1.321]\n"
     ]
    }
   ],
   "source": [
    "X = turbo1.X  # Evaluated points\n",
    "fX = turbo1.fX  # Observed values\n",
    "ind_best = np.argmin(fX)\n",
    "f_best, x_best = fX[ind_best], X[ind_best, :]\n",
    "\n",
    "print(\"Best value found:\\n\\tf(x) = %.3f\\nObserved at:\\n\\tx = %s\" % (f_best, np.around(x_best, 3)))"
   ]
  },
  {
   "cell_type": "code",
   "execution_count": 6,
   "metadata": {},
   "outputs": [
    {
     "data": {
      "image/png": "[encoded data removed]",
      "text/plain": [
       "<Figure size 504x360 with 1 Axes>"
      ]
     },
     "metadata": {
      "needs_background": "light"
     },
     "output_type": "display_data"
    }
   ],
   "source": [
    "fig = plt.figure(figsize=(7, 5))\n",
    "matplotlib.rcParams.update({'font.size': 16})\n",
    "plt.plot(fX, 'b.', ms=10)  # Plot all evaluated points as blue dots\n",
    "plt.plot(np.minimum.accumulate(fX), 'r', lw=3)  # Plot cumulative minimum as a red line\n",
    "plt.xlim([0, len(fX)])\n",
    "plt.ylim([0, 30])\n",
    "plt.title(\"10D Levy function\")\n",
    "\n",
    "plt.tight_layout()\n",
    "plt.show()"
   ]
  },
  {
   "cell_type": "code",
   "execution_count": 7,
   "metadata": {},
   "outputs": [
    {
     "data": {
      "text/plain": [
       "array([[ 92.89100166],\n",
       "       [ 34.95234341],\n",
       "       [ 35.20455185],\n",
       "       [ 94.03515019],\n",
       "       [ 18.54883832],\n",
       "       [ 79.17736481],\n",
       "       [ 18.74567428],\n",
       "       [ 34.49808303],\n",
       "       [ 52.54268855],\n",
       "       [128.20874722],\n",
       "       [ 54.18748868],\n",
       "       [ 39.58860239],\n",
       "       [119.55961094],\n",
       "       [ 24.90798564],\n",
       "       [142.07015954],\n",
       "       [ 73.31467634],\n",
       "       [120.7718661 ],\n",
       "       [ 66.56283467],\n",
       "       [ 66.14708172],\n",
       "       [ 39.79332993],\n",
       "       [ 72.66175137],\n",
       "       [106.89108128],\n",
       "       [ 34.38256252],\n",
       "       [ 74.35159763],\n",
       "       [ 56.2196174 ],\n",
       "       [ 92.52663519],\n",
       "       [113.60355762],\n",
       "       [134.2548428 ],\n",
       "       [ 42.69716162],\n",
       "       [ 48.12293602],\n",
       "       [ 46.91181994],\n",
       "       [ 48.3247873 ],\n",
       "       [ 70.35596154],\n",
       "       [ 62.25792486],\n",
       "       [ 62.1063632 ],\n",
       "       [ 33.04888136],\n",
       "       [ 46.17161187],\n",
       "       [ 29.882534  ],\n",
       "       [ 42.73397447],\n",
       "       [ 80.84879041],\n",
       "       [ 23.01358271],\n",
       "       [ 24.98682415],\n",
       "       [ 25.55283695],\n",
       "       [ 18.92172808],\n",
       "       [ 24.25962092],\n",
       "       [ 28.54993624],\n",
       "       [ 15.70306708],\n",
       "       [ 27.81301123],\n",
       "       [ 24.15509771],\n",
       "       [ 21.5404569 ],\n",
       "       [ 30.57224981],\n",
       "       [ 30.75433978],\n",
       "       [ 29.48257563],\n",
       "       [ 32.0570915 ],\n",
       "       [ 23.08939625],\n",
       "       [ 32.16967275],\n",
       "       [ 30.61254637],\n",
       "       [ 14.752937  ],\n",
       "       [ 26.55170965],\n",
       "       [ 40.31005212],\n",
       "       [ 18.26282317],\n",
       "       [ 21.03492035],\n",
       "       [ 13.6493765 ],\n",
       "       [ 25.63614115],\n",
       "       [ 30.32070586],\n",
       "       [ 23.7441467 ],\n",
       "       [ 17.83671074],\n",
       "       [ 15.99459041],\n",
       "       [ 22.01807169],\n",
       "       [ 14.38943207],\n",
       "       [ 31.16275767],\n",
       "       [ 53.27984386],\n",
       "       [ 85.73656133],\n",
       "       [ 97.68166897],\n",
       "       [ 59.77732832],\n",
       "       [ 36.09411269],\n",
       "       [ 36.10220851],\n",
       "       [ 21.38884751],\n",
       "       [ 34.50459086],\n",
       "       [ 41.87014301],\n",
       "       [ 32.83284906],\n",
       "       [ 15.23091473],\n",
       "       [ 19.350374  ],\n",
       "       [ 24.30507272],\n",
       "       [ 19.15414847],\n",
       "       [ 23.06440393],\n",
       "       [ 22.32758694],\n",
       "       [ 13.70950506],\n",
       "       [ 18.1225554 ],\n",
       "       [ 15.8198173 ],\n",
       "       [ 16.35066717],\n",
       "       [ 15.58288298],\n",
       "       [ 10.88852667],\n",
       "       [ 12.3538753 ],\n",
       "       [ 17.8255146 ],\n",
       "       [ 18.2424808 ],\n",
       "       [ 13.40554682],\n",
       "       [ 17.97433592],\n",
       "       [ 14.25743039],\n",
       "       [ 12.03265664]])"
      ]
     },
     "execution_count": 7,
     "metadata": {},
     "output_type": "execute_result"
    }
   ],
   "source": [
    "fX"
   ]
  },
  {
   "cell_type": "code",
   "execution_count": null,
   "metadata": {},
   "outputs": [],
   "source": []
  }
 ],
 "metadata": {
  "interpreter": {
   "hash": "870cddec6c8f45879887843070bc4155360ee9973f7ea74b4418fb17767bd17a"
  },
  "kernelspec": {
   "display_name": "Python 3.8.10 ('.dqn-cpu-env': venv)",
   "language": "python",
   "name": "python3"
  },
  "language_info": {
   "codemirror_mode": {
    "name": "ipython",
    "version": 3
   },
   "file_extension": ".py",
   "mimetype": "text/x-python",
   "name": "python",
   "nbconvert_exporter": "python",
   "pygments_lexer": "ipython3",
   "version": "3.8.10"
  },
  "orig_nbformat": 4
 },
 "nbformat": 4,
 "nbformat_minor": 2
}
