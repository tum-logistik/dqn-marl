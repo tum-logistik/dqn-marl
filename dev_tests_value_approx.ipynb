{
 "cells": [
  {
   "cell_type": "code",
   "execution_count": 12,
   "metadata": {},
   "outputs": [],
   "source": [
    "from opt.value_estimator import *\n",
    "from environment.MarketEnv import *\n",
    "from common.RangeMap import *\n",
    "import numpy as np\n",
    "from opt.bbo_sim_anneal import *\n",
    "\n",
    "\n",
    "STATE_DIM = 2\n",
    "ACTION_DIM = 10\n",
    "BATCH_SIZE = 200\n",
    "\n",
    "marketEnv = MarketEnv(action_size = ACTION_DIM, max_price = 100, max_inventory = 1, n_agents = 3)\n",
    "\n",
    "range_dict = {\n",
    "    (0, 10): 0.10,\n",
    "    (10, 20): 0.10,\n",
    "    (20, 30): 0.10,\n",
    "    (30, 40): 0.10,\n",
    "    (40, 50): 0.10,\n",
    "    (50, 60): 0.10,\n",
    "    (60, 70): 0.10,\n",
    "    (70, 80): 0.10,\n",
    "    (80, 90): 0.10,\n",
    "    (90, 100): 0.10,\n",
    "}\n",
    "\n",
    "policy_dic = RangeMapDict(range_dict)\n",
    "\n",
    "# s -> n -> a\n",
    "na_policy_dict = dict()\n",
    "for n in range(marketEnv.n_agents):\n",
    "    na_policy_dict[n] = policy_dic\n",
    "\n",
    "# everyone same policy\n",
    "sna_policy_dict = dict()\n",
    "for s in range(marketEnv.state_space_size):\n",
    "    key = repr(list(marketEnv.state_space[s]))\n",
    "    sna_policy_dict[key] = na_policy_dict"
   ]
  },
  {
   "cell_type": "code",
   "execution_count": 13,
   "metadata": {},
   "outputs": [
    {
     "data": {
      "text/plain": [
       "array([ 0., 10., 20., 30., 40., 50., 60., 70., 80., 90.])"
      ]
     },
     "execution_count": 13,
     "metadata": {},
     "output_type": "execute_result"
    }
   ],
   "source": [
    "marketEnv.action_space"
   ]
  },
  {
   "cell_type": "code",
   "execution_count": 14,
   "metadata": {},
   "outputs": [
    {
     "data": {
      "text/plain": [
       "array([[ 0.,  0.,  0.,  0.],\n",
       "       [ 0.,  0.,  0., 10.],\n",
       "       [ 0.,  0.,  0., 20.],\n",
       "       [ 0.,  0.,  0., 30.],\n",
       "       [ 0.,  0.,  0., 40.],\n",
       "       [ 0.,  0.,  0., 50.],\n",
       "       [ 0.,  0.,  0., 60.],\n",
       "       [ 0.,  0.,  0., 70.],\n",
       "       [ 0.,  0.,  0., 80.],\n",
       "       [ 0.,  0.,  0., 90.]])"
      ]
     },
     "execution_count": 14,
     "metadata": {},
     "output_type": "execute_result"
    }
   ],
   "source": [
    "marketEnv.state_space"
   ]
  },
  {
   "cell_type": "code",
   "execution_count": 15,
   "metadata": {},
   "outputs": [],
   "source": [
    "value_vector, joint_action_vector = value_search_sample_policy_approx(marketEnv, sna_policy_dict, max_iter = 199)"
   ]
  },
  {
   "cell_type": "code",
   "execution_count": 16,
   "metadata": {},
   "outputs": [
    {
     "name": "stdout",
     "output_type": "stream",
     "text": [
      "[40. 40. 60.]\n",
      "[ 0.  0.  0. 10.]\n",
      "0.09834115348572371\n"
     ]
    }
   ],
   "source": [
    "test_state_index = 1\n",
    "print(joint_action_vector[test_state_index])\n",
    "print(marketEnv.state_space[test_state_index])\n",
    "print(value_vector[test_state_index])"
   ]
  },
  {
   "cell_type": "code",
   "execution_count": 17,
   "metadata": {},
   "outputs": [
    {
     "data": {
      "text/plain": [
       "0.1"
      ]
     },
     "execution_count": 17,
     "metadata": {},
     "output_type": "execute_result"
    }
   ],
   "source": [
    "check_state = marketEnv.state_space[test_state_index]\n",
    "sna_policy_dict[repr(list(check_state))][0][21]"
   ]
  },
  {
   "cell_type": "code",
   "execution_count": 18,
   "metadata": {},
   "outputs": [
    {
     "data": {
      "text/plain": [
       "array([0.10128564, 0.09834115, 0.10156604, 0.1020385 , 0.10009589,\n",
       "       0.10355648, 0.09783579, 0.09990612, 0.1023481 , 0.09901673])"
      ]
     },
     "execution_count": 18,
     "metadata": {},
     "output_type": "execute_result"
    }
   ],
   "source": [
    "value_vector"
   ]
  },
  {
   "cell_type": "code",
   "execution_count": 19,
   "metadata": {},
   "outputs": [],
   "source": [
    "state_key = repr(list(marketEnv.state_space[test_state_index]))\n",
    "\n",
    "epsilon, value_cur_policy, sna_policy_dict_iter = sim_anneal_optimize(marketEnv, sna_policy_dict, k_max = 21)"
   ]
  },
  {
   "cell_type": "code",
   "execution_count": 20,
   "metadata": {},
   "outputs": [
    {
     "data": {
      "text/plain": [
       "array([0.55836124, 0.36323051, 0.38531987, 0.33790228, 0.47502096,\n",
       "       0.55385285, 0.69641612, 0.53383397, 0.57032858, 0.68976325])"
      ]
     },
     "execution_count": 20,
     "metadata": {},
     "output_type": "execute_result"
    }
   ],
   "source": [
    "epsilon"
   ]
  },
  {
   "cell_type": "code",
   "execution_count": 21,
   "metadata": {},
   "outputs": [
    {
     "data": {
      "text/plain": [
       "array([0.10028156, 0.09676242, 0.10026411, 0.10267462, 0.09781705,\n",
       "       0.09680415, 0.10061201, 0.09503043, 0.09803056, 0.10026991])"
      ]
     },
     "execution_count": 21,
     "metadata": {},
     "output_type": "execute_result"
    }
   ],
   "source": [
    "value_cur_policy"
   ]
  },
  {
   "cell_type": "code",
   "execution_count": 22,
   "metadata": {},
   "outputs": [
    {
     "data": {
      "text/plain": [
       "{(0, 10): 0.18497496202549316,\n",
       " (10, 20): 0.11983932096451322,\n",
       " (20, 30): 0.17433225267461028,\n",
       " (30, 40): 0.047371245175546056,\n",
       " (40, 50): 0.19215071400096218,\n",
       " (50, 60): 0.021675673039184815,\n",
       " (60, 70): 0.08960173164100348,\n",
       " (70, 80): 0.09370135445562199,\n",
       " (80, 90): 0.0,\n",
       " (90, 100): 0.07635274602306476}"
      ]
     },
     "execution_count": 22,
     "metadata": {},
     "output_type": "execute_result"
    }
   ],
   "source": [
    "sna_policy_dict_iter[state_key][1].range_dic"
   ]
  },
  {
   "cell_type": "code",
   "execution_count": null,
   "metadata": {},
   "outputs": [],
   "source": []
  }
 ],
 "metadata": {
  "interpreter": {
   "hash": "870cddec6c8f45879887843070bc4155360ee9973f7ea74b4418fb17767bd17a"
  },
  "kernelspec": {
   "display_name": "Python 3.8.10 ('.dqn-cpu-env': venv)",
   "language": "python",
   "name": "python3"
  },
  "language_info": {
   "codemirror_mode": {
    "name": "ipython",
    "version": 3
   },
   "file_extension": ".py",
   "mimetype": "text/x-python",
   "name": "python",
   "nbconvert_exporter": "python",
   "pygments_lexer": "ipython3",
   "version": "3.8.10"
  },
  "orig_nbformat": 4
 },
 "nbformat": 4,
 "nbformat_minor": 2
}
